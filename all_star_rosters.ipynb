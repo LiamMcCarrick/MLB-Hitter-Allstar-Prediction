{
 "cells": [
  {
   "cell_type": "code",
   "execution_count": 1,
   "metadata": {},
   "outputs": [],
   "source": [
    "# import packages\n",
    "import pandas as pd\n",
    "from pybaseball.lahman import *\n",
    "from pybaseball import playerid_reverse_lookup"
   ]
  },
  {
   "cell_type": "code",
   "execution_count": 2,
   "metadata": {},
   "outputs": [],
   "source": [
    "# download lahman database\n",
    "download_lahman()\n",
    "\n",
    "# import all star roster data\n",
    "allstar = all_star_full()"
   ]
  },
  {
   "attachments": {},
   "cell_type": "markdown",
   "metadata": {},
   "source": [
    "# Gather All Stars from the 2000 to the 2019 MLB Season"
   ]
  },
  {
   "cell_type": "code",
   "execution_count": 5,
   "metadata": {},
   "outputs": [
    {
     "name": "stderr",
     "output_type": "stream",
     "text": [
      "C:\\Users\\Owner\\AppData\\Local\\Temp\\ipykernel_16812\\1294168302.py:6: SettingWithCopyWarning: \n",
      "A value is trying to be set on a copy of a slice from a DataFrame\n",
      "\n",
      "See the caveats in the documentation: https://pandas.pydata.org/pandas-docs/stable/user_guide/indexing.html#returning-a-view-versus-a-copy\n",
      "  allstar_filtered.rename(columns={\"playerID\": \"key_bbref\"}, inplace=True)\n"
     ]
    },
    {
     "name": "stdout",
     "output_type": "stream",
     "text": [
      "Gathering player lookup table. This may take a moment.\n"
     ]
    }
   ],
   "source": [
    "# only choose all stars since 2000\n",
    "allstar_filtered = allstar[allstar[\"yearID\"].between(2000,2019)]\n",
    "\n",
    "# get full player names instead of player IDs\n",
    "player_ID = allstar_filtered[\"playerID\"]\n",
    "allstar_filtered.rename(columns={\"playerID\": \"key_bbref\"}, inplace=True)\n",
    "player_name = playerid_reverse_lookup(player_ID, key_type=\"bbref\")\n",
    "allstar_key = player_name[[\"key_bbref\", \"name_last\", \"name_first\"]]"
   ]
  },
  {
   "cell_type": "code",
   "execution_count": 8,
   "metadata": {},
   "outputs": [],
   "source": [
    "# join full names with filtered all star dataset\n",
    "merged_allstars = pd.merge(allstar_filtered, allstar_key, on=\"key_bbref\", how=\"left\")\n",
    "\n",
    "merged_allstars.to_csv(\"Model_Data\\\\allstars00-19.csv\")"
   ]
  },
  {
   "attachments": {},
   "cell_type": "markdown",
   "metadata": {},
   "source": [
    "#  Gather All Stars from the 2021 MLB Season"
   ]
  },
  {
   "cell_type": "code",
   "execution_count": 9,
   "metadata": {},
   "outputs": [
    {
     "name": "stderr",
     "output_type": "stream",
     "text": [
      "C:\\Users\\Owner\\AppData\\Local\\Temp\\ipykernel_16812\\4291154544.py:6: SettingWithCopyWarning: \n",
      "A value is trying to be set on a copy of a slice from a DataFrame\n",
      "\n",
      "See the caveats in the documentation: https://pandas.pydata.org/pandas-docs/stable/user_guide/indexing.html#returning-a-view-versus-a-copy\n",
      "  allstar_filtered21.rename(columns={\"playerID\": \"key_bbref\"}, inplace=True)\n"
     ]
    }
   ],
   "source": [
    "# only choose all stars from the 2021 season\n",
    "allstar_filtered21 = allstar[allstar[\"yearID\"] == 2021]\n",
    "\n",
    "# get full player names instead of player IDs\n",
    "player_ID21 = allstar_filtered21[\"playerID\"]\n",
    "allstar_filtered21.rename(columns={\"playerID\": \"key_bbref\"}, inplace=True)\n",
    "player_name21 = playerid_reverse_lookup(player_ID21, key_type=\"bbref\")\n",
    "allstar_key21 = player_name21[[\"key_bbref\", \"name_last\", \"name_first\"]]"
   ]
  },
  {
   "cell_type": "code",
   "execution_count": 11,
   "metadata": {},
   "outputs": [],
   "source": [
    "# join full names with filtered all star dataset\n",
    "merged_allstars21 = pd.merge(allstar_filtered21, allstar_key21, on=\"key_bbref\", how=\"left\")\n",
    "\n",
    "merged_allstars21.to_csv(\"Model_Data\\\\allstars2021.csv\")"
   ]
  }
 ],
 "metadata": {
  "kernelspec": {
   "display_name": "venv",
   "language": "python",
   "name": "python3"
  },
  "language_info": {
   "codemirror_mode": {
    "name": "ipython",
    "version": 3
   },
   "file_extension": ".py",
   "mimetype": "text/x-python",
   "name": "python",
   "nbconvert_exporter": "python",
   "pygments_lexer": "ipython3",
   "version": "3.9.7"
  },
  "orig_nbformat": 4
 },
 "nbformat": 4,
 "nbformat_minor": 2
}
